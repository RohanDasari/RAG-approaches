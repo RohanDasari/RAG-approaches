{
 "cells": [
  {
   "cell_type": "code",
   "execution_count": 7,
   "id": "2fc75984",
   "metadata": {},
   "outputs": [],
   "source": [
    "from langchain.embeddings import HuggingFaceEmbeddings\n",
    "from langchain_groq import ChatGroq\n",
    "import os\n",
    "embeddings=HuggingFaceEmbeddings(model_name=\"all-MiniLM-L6-v2\")\n",
    "llm=ChatGroq(model_name=\"Gemma2-9b-It\")"
   ]
  },
  {
   "cell_type": "code",
   "execution_count": 8,
   "id": "8b50738d",
   "metadata": {},
   "outputs": [
    {
     "data": {
      "text/plain": [
       "AIMessage(content='The capital of France is **Paris**. 🇫🇷 \\n', additional_kwargs={}, response_metadata={'token_usage': {'completion_tokens': 15, 'prompt_tokens': 16, 'total_tokens': 31, 'completion_time': 0.027272727, 'prompt_time': 0.001924048, 'queue_time': 0.246054062, 'total_time': 0.029196775}, 'model_name': 'Gemma2-9b-It', 'system_fingerprint': 'fp_10c08bf97d', 'finish_reason': 'stop', 'logprobs': None}, id='run--ce4e56c2-fb09-4bdb-ab63-c0c6c5b876e1-0', usage_metadata={'input_tokens': 16, 'output_tokens': 15, 'total_tokens': 31})"
      ]
     },
     "execution_count": 8,
     "metadata": {},
     "output_type": "execute_result"
    }
   ],
   "source": [
    "llm.invoke(\"What is the capital of France?\")"
   ]
  },
  {
   "cell_type": "markdown",
   "id": "0e507b9f",
   "metadata": {},
   "source": [
    "# Retriever"
   ]
  },
  {
   "cell_type": "code",
   "execution_count": null,
   "id": "ade0d230",
   "metadata": {},
   "outputs": [],
   "source": [
    "from langchain.text_splitter import RecursiveCharacterTextSplitter\n",
    "from langchain_community.document_loaders import WebBaseLoader\n",
    "from langchain_community.vectorstores import Chroma\n",
    "urls = [\n",
    "    \"https://lilianweng.github.io/posts/2023-06-23-agent/\",\n",
    "    \"https://lilianweng.github.io/posts/2023-03-15-prompt-engineering/\",\n",
    "    \"https://lilianweng.github.io/posts/2023-10-25-adv-attack-llm/\",\n",
    "]\n",
    "\n",
    "docs = [WebBaseLoader(url).load() for url in urls]\n",
    "docs_list = [item for sublist in docs for item in sublist]\n",
    "\n",
    "text_splitter = RecursiveCharacterTextSplitter.from_tiktoken_encoder(\n",
    "    chunk_size=250, chunk_overlap=25\n",
    ")\n",
    "doc_splits = text_splitter.split_documents(docs_list)\n",
    "\n",
    "# Add to vectorDB\n",
    "vectorstore = Chroma.from_documents(\n",
    "    documents=doc_splits,\n",
    "    collection_name=\"rag-chroma\",\n",
    "    embedding=embeddings,\n",
    ")\n",
    "retriever = vectorstore.as_retriever()"
   ]
  },
  {
   "cell_type": "code",
   "execution_count": 54,
   "id": "e8bfccb8",
   "metadata": {},
   "outputs": [
    {
     "name": "stdout",
     "output_type": "stream",
     "text": [
      "---PROMPT--- input_variables=['context', 'question'] input_types={} partial_variables={} metadata={'lc_hub_owner': 'rlm', 'lc_hub_repo': 'rag-prompt', 'lc_hub_commit_hash': '50442af133e61576e74536c6556cefe1fac147cad032f4377b60c436e6cdcb6e'} messages=[HumanMessagePromptTemplate(prompt=PromptTemplate(input_variables=['context', 'question'], input_types={}, partial_variables={}, template=\"You are an assistant for question-answering tasks. Use the following pieces of retrieved context to answer the question. If you don't know the answer, just say that you don't know. Use three sentences maximum and keep the answer concise.\\nQuestion: {question} \\nContext: {context} \\nAnswer:\"), additional_kwargs={})]\n"
     ]
    }
   ],
   "source": [
    "from langchain import hub\n",
    "from langchain_core.output_parsers import StrOutputParser\n",
    "\n",
    "# Prompt\n",
    "prompt = hub.pull(\"rlm/rag-prompt\")\n",
    "\n",
    "print(f\"---PROMPT--- {prompt}\")\n",
    "\n",
    "# Post-processing\n",
    "def format_docs(docs):\n",
    "    return \"\\n\\n\".join(doc.page_content for doc in docs)\n",
    "\n",
    "\n",
    "# Chain\n",
    "rag_chain = prompt | llm | StrOutputParser()"
   ]
  },
  {
   "cell_type": "code",
   "execution_count": 55,
   "id": "6ac8c5ef",
   "metadata": {},
   "outputs": [
    {
     "name": "stdout",
     "output_type": "stream",
     "text": [
      "binary_score='no'\n"
     ]
    }
   ],
   "source": [
    "### Retrieval Grader\n",
    "from langchain_core.prompts import ChatPromptTemplate\n",
    "from langchain_core.pydantic_v1 import BaseModel, Field\n",
    "# Data model\n",
    "class GradeDocuments(BaseModel):\n",
    "    \"\"\"Binary score for relevance check on retrieved documents.\"\"\"\n",
    "\n",
    "    binary_score: str = Field(\n",
    "        description=\"Documents are relevant to the question, 'yes' or 'no'\"\n",
    "    )\n",
    "# LLM with function call\n",
    "structured_llm_grader = llm.with_structured_output(GradeDocuments)\n",
    "# Prompt\n",
    "system1 = \"\"\"You are a grader assessing relevance of a retrieved document to a user question. \\n \n",
    "    If the document contains keyword(s) or semantic meaning related to the question, grade it as relevant. \\n\n",
    "    Give a binary score 'yes' or 'no' score to indicate whether the document is relevant to the question.\"\"\"\n",
    "grade_prompt = ChatPromptTemplate.from_messages(\n",
    "    [\n",
    "        (\"system\", system1),\n",
    "        (\"human\", \"Retrieved document: \\n\\n {document} \\n\\n User question: {question}\"),\n",
    "    ]\n",
    ")\n",
    "\n",
    "retrieval_grader = grade_prompt | structured_llm_grader\n",
    "question = \"figter jets\"\n",
    "docs = retriever.get_relevant_documents(question)\n",
    "doc_txt = docs[1].page_content\n",
    "print(retrieval_grader.invoke({\"question\": question, \"document\": doc_txt}))"
   ]
  },
  {
   "cell_type": "code",
   "execution_count": 180,
   "id": "4948586b",
   "metadata": {},
   "outputs": [
    {
     "data": {
      "text/plain": [
       "'1. fighter jet models\\n2. best fighter jets  \\n'"
      ]
     },
     "execution_count": 180,
     "metadata": {},
     "output_type": "execute_result"
    }
   ],
   "source": [
    "### Question Re-writer\n",
    "# Prompt\n",
    "system2 = \"\"\"You a question re-writer that converts an input question to a better version that is optimized \\n \n",
    "     for web search. Look at the input and try to reason about the underlying semantic intent / meaning. Please give me just 2 optimized questions without any additional text.\"\"\"\n",
    "re_write_prompt = ChatPromptTemplate.from_messages(\n",
    "    [\n",
    "        (\"system\", system2),\n",
    "        (\n",
    "            \"human\",\n",
    "            \"Here is the initial question: \\n\\n {question} \\n Formulate an improved question.\",\n",
    "        ),\n",
    "    ]\n",
    ")\n",
    "\n",
    "question_rewriter = re_write_prompt | llm | StrOutputParser()\n",
    "question_rewriter.invoke({\"question\": question})"
   ]
  },
  {
   "cell_type": "code",
   "execution_count": 181,
   "id": "58072e3e",
   "metadata": {},
   "outputs": [],
   "source": [
    "# # Run\n",
    "# question = \"tell me about agent memory.\"\n",
    "# generation = rag_chain.invoke(question)\n",
    "# print(generation)"
   ]
  },
  {
   "cell_type": "code",
   "execution_count": 182,
   "id": "daab1312",
   "metadata": {},
   "outputs": [],
   "source": [
    "from typing import List\n",
    "\n",
    "from typing_extensions import TypedDict\n",
    "\n",
    "\n",
    "class GraphState(TypedDict):\n",
    "    \"\"\"\n",
    "    Represents the state of our graph.\n",
    "\n",
    "    Attributes:\n",
    "        question: question\n",
    "        generation: LLM generation\n",
    "        web_search: whether to add search\n",
    "        documents: list of documents\n",
    "    \"\"\"\n",
    "\n",
    "    question: str\n",
    "    generation: str\n",
    "    web_search: str\n",
    "    documents: List[str]\n",
    "\n"
   ]
  },
  {
   "cell_type": "code",
   "execution_count": 183,
   "id": "32913ae4",
   "metadata": {},
   "outputs": [],
   "source": [
    "\n",
    "### Search\n",
    "\n",
    "from langchain_community.tools.tavily_search import TavilySearchResults\n",
    "\n",
    "web_search_tool = TavilySearchResults(k=3)"
   ]
  },
  {
   "cell_type": "code",
   "execution_count": 184,
   "id": "63305871",
   "metadata": {},
   "outputs": [
    {
     "data": {
      "text/plain": [
       "[{'title': 'Fighter aircraft - Wikipedia',\n",
       "  'url': 'https://en.wikipedia.org/wiki/Fighter_aircraft',\n",
       "  'content': 'Contents\\n\\nFighter aircraft\\n\\n\\n\\nFighter aircraft (early on also pursuit aircraft)[a] are military aircraft designed primarily for air-to-air combat. In military conflict, the role of fighter aircraft is to establish air superiority of the battlespace. Domination of the airspace above a battlefield permits bombers and attack aircraft to engage in tactical and strategic bombing of enemy targets, and helps prevent the enemy from doing the same. [...] A fighter aircraft is primarily designed for air-to-air combat.[4] A given type may be designed for specific combat conditions, and in some cases for additional roles such as air-to-ground fighting. Historically the British Royal Flying Corps and Royal Air Force referred to them as \"scouts\" until the early 1920s, while the U.S. Army called them \"pursuit\" aircraft until the late 1940s (using the designation P, as in Curtiss P-40 Warhawk, Republic P-47 Thunderbolt and Bell P-63 Kingcobra). The UK [...] The first generation of jet fighters comprised the initial, subsonic jet-fighter designs introduced late in World War II (1939–1945) and in the early post-war period. They differed little from their piston-engined counterparts in appearance, and many employed unswept wings. Guns and cannon remained the principal armament. The need to obtain a decisive advantage in maximum speed pushed the development of turbojet-powered aircraft forward. Top speeds for fighters rose steadily throughout World',\n",
       "  'score': 0.8800674},\n",
       " {'title': 'List of fighter aircraft - Wikipedia',\n",
       "  'url': 'https://en.wikipedia.org/wiki/List_of_fighter_aircraft',\n",
       "  'content': 'Fighter aircraft are military aircraft primarily designed for air-to-air combat. They usually carry various weapons and missiles intended for air strikes and are used to achieve superiority over airspaces. While these aircraft are meant for aerial warfare, and does not include aircraft used for specific roles such as ground attack aircraft, bombers and trainers, there is some overlap in roles and designs. Multirole combat aircraft are utlized for various roles and fall under multiple [...] The key performance features of a fighter apart from its firepower include its high speed and maneuverability. Fighter aircraft are sorted into generations, from one to five, based on technological level and advancements.[1][2] The fighter aircraft are often designated by a specific naming convention based on the country of origin. The name usually consists of a letter prefix followed by a number, though there have names that do not follow this convention.\\n\\nList [...] Dassault Rafale | France | Multirole fighter | 1986 | Operational | 267 | [8]\\nDassault Super Mystère | France | Fighter-bomber | 1955 | Retired | 180 | \\nDassault-Breguet Super Étendard | France | Strike fighter | 1974 | Operational | 85 | \\nDayton-Wright XPS-1 | US |  | 1923 | Prototype | 3 | \\nde Bruyère C.1 | France |  | 1917 | Prototype | 1 | [9]\\nde Havilland Dormouse | UK |  | 1924 | Prototype | 1 | \\nde Havilland DH.77 | UK | Interceptor | 1929 | Prototype | 1 |',\n",
       "  'score': 0.79845446},\n",
       " {'title': 'Top 10 Fighter Jets in the World in 2025 - Aviation A2Z',\n",
       "  'url': 'https://aviationa2z.com/index.php/2025/05/12/top-10-fighter-jets-in-the-world-in-2025/',\n",
       "  'content': 'Top 10 Fighter Jets in the World in 2025 · 10. Sukhoi Su-35S · 9. Eurofighter Typhoon · 8. Dassault Rafale · 7. Boeing F-15EX Eagle II · 6. Shenyang',\n",
       "  'score': 0.62824833},\n",
       " {'title': \"Exclusive: Pakistan's Chinese-made jet brought down two Indian ...\",\n",
       "  'url': 'https://www.reuters.com/world/pakistans-chinese-made-jet-brought-down-two-indian-fighter-aircraft-us-officials-2025-05-08/',\n",
       "  'content': 'The Rafale and the model of the J-10 used by Pakistan are both considered generation 4.5 fighter jets, placing them at the leading edge of combat aircraft.\\nWestern analysts and defense industry sources said the live use of some of the advanced weapons that could be deployed in future major power conflicts would be scrutinized in minute detail, but emphasized it was too early to draw firm conclusions.',\n",
       "  'score': 0.6072213}]"
      ]
     },
     "execution_count": 184,
     "metadata": {},
     "output_type": "execute_result"
    }
   ],
   "source": [
    "web_search_tool.invoke({\"query\": \"fighter jets\"})"
   ]
  },
  {
   "cell_type": "code",
   "execution_count": 3,
   "id": "8247e84b",
   "metadata": {},
   "outputs": [
    {
     "name": "stdout",
     "output_type": "stream",
     "text": [
      "In all, 45 individuals have served 47 presidencies spanning 60 four-year terms. Donald Trump is the 47th and current president since January 20, 2025. Donald J. Trump is the 47th and current president of the United States, in office since January 2025. Donald J. Trump serves as the 47th President of the United States. He also served as the 45th. Read the President's full biography. Donald J. Trump ... After a landslide election victory in 2024, President Donald J. Trump is returning to the White House to build upon his previous successes and ... Missing: minister | Show results with:minister. The current Prime Minister is Donald J. Trump. LTC Tulsi Gabbard approaches every issue, domestic and foreign, with a focus on ensuring the safety, security, and freedom of the American people. She is ... Missing: prime | Show results with:prime. Prime Minister Narendra Modi welcomed United States President Joseph R. Biden, Jr., to India today, reaffirming the close and enduring partnership between ... Prime Minister Narendra Modi today joined other world leaders in congratulating Donald Trump on becoming the 47th President of the United States ... List of Prime Ministers of the United States of America (A United Kingdom of Scandinavia) ... Calvin Coolidge. US President Calvin Coolidge. JD Vance serves as the 50th Vice President of the United States. Read the Vice President's full biography.\n"
     ]
    }
   ],
   "source": [
    "from langchain.utilities import GoogleSerperAPIWrapper\n",
    "\n",
    "search = GoogleSerperAPIWrapper()\n",
    "result = search.run(\"who is a current prime minister of USA?\")  # ✅ RIGHT\n",
    "print(result)\n"
   ]
  },
  {
   "cell_type": "code",
   "execution_count": 185,
   "id": "ec7654f4",
   "metadata": {},
   "outputs": [],
   "source": [
    "from langchain.schema import Document\n",
    "\n",
    "\n",
    "def retrieve(state):\n",
    "    \"\"\"\n",
    "    Retrieve documents\n",
    "\n",
    "    Args:\n",
    "        state (dict): The current graph state\n",
    "\n",
    "    Returns:\n",
    "        state (dict): New key added to state, documents, that contains retrieved documents\n",
    "    \"\"\"\n",
    "    print(\"---RETRIEVE---\")\n",
    "    question = state[\"question\"]\n",
    "\n",
    "    # Retrieval\n",
    "    documents = retriever.get_relevant_documents(question)\n",
    "    return {\"documents\": documents, \"question\": question}"
   ]
  },
  {
   "cell_type": "code",
   "execution_count": 186,
   "id": "66953024",
   "metadata": {},
   "outputs": [],
   "source": [
    "\n",
    "def generate(state):\n",
    "    \"\"\"\n",
    "    Generate answer\n",
    "\n",
    "    Args:\n",
    "        state (dict): The current graph state\n",
    "\n",
    "    Returns:\n",
    "        state (dict): New key added to state, generation, that contains LLM generation\n",
    "    \"\"\"\n",
    "    print(\"---GENERATE---\")\n",
    "    question = state[\"question\"]\n",
    "    documents = state[\"documents\"]\n",
    "\n",
    "    # RAG generation\n",
    "    generation = rag_chain.invoke({\"context\": documents, \"question\": question})\n",
    "    return {\"documents\": documents, \"question\": question, \"generation\": generation}"
   ]
  },
  {
   "cell_type": "code",
   "execution_count": 187,
   "id": "df06e37b",
   "metadata": {},
   "outputs": [],
   "source": [
    "def grade_documents(state):\n",
    "    \"\"\"\n",
    "    Determines whether the retrieved documents are relevant to the question.\n",
    "\n",
    "    Args:\n",
    "        state (dict): The current graph state\n",
    "\n",
    "    Returns:\n",
    "        state (dict): Updates documents key with only filtered relevant documents\n",
    "    \"\"\"\n",
    "\n",
    "    print(\"---CHECK DOCUMENT RELEVANCE TO QUESTION---\")\n",
    "    question = state[\"question\"]\n",
    "    documents = state[\"documents\"]\n",
    "\n",
    "    # Score each doc\n",
    "    filtered_docs = []\n",
    "    web_search = \"No\"\n",
    "    for d in documents:\n",
    "        score = retrieval_grader.invoke(\n",
    "            {\"question\": question, \"document\": d.page_content}\n",
    "        )\n",
    "        grade = score.binary_score\n",
    "        if grade == \"yes\":\n",
    "            print(\"---GRADE: DOCUMENT RELEVANT---\")\n",
    "            filtered_docs.append(d)\n",
    "        else:\n",
    "            print(\"---GRADE: DOCUMENT NOT RELEVANT---\")\n",
    "            web_search = \"Yes\"\n",
    "            continue\n",
    "    return {\"documents\": filtered_docs, \"question\": question, \"web_search\": web_search}"
   ]
  },
  {
   "cell_type": "code",
   "execution_count": 188,
   "id": "0a1208aa",
   "metadata": {},
   "outputs": [],
   "source": [
    "def transform_query(state):\n",
    "    \"\"\"\n",
    "    Transform the query to produce a better question.\n",
    "\n",
    "    Args:\n",
    "        state (dict): The current graph state\n",
    "\n",
    "    Returns:\n",
    "        state (dict): Updates question key with a re-phrased question\n",
    "    \"\"\"\n",
    "\n",
    "    print(\"---TRANSFORM QUERY---\")\n",
    "    question = state[\"question\"]\n",
    "    documents = state[\"documents\"]\n",
    "\n",
    "    # Re-write question\n",
    "    better_question = question_rewriter.invoke({\"question\": question})\n",
    "    return {\"documents\": documents, \"question\": better_question}"
   ]
  },
  {
   "cell_type": "code",
   "execution_count": 189,
   "id": "986fda78",
   "metadata": {},
   "outputs": [],
   "source": [
    "def web_search(state):\n",
    "    \"\"\"\n",
    "    Web search based on the re-phrased question.\n",
    "\n",
    "    Args:\n",
    "        state (dict): The current graph state\n",
    "\n",
    "    Returns:\n",
    "        state (dict): Updates documents key with appended web results\n",
    "    \"\"\"\n",
    "\n",
    "    print(\"---WEB SEARCH---\")\n",
    "    question = state[\"question\"]\n",
    "    print(question)\n",
    "    documents = state[\"documents\"]\n",
    "    print(documents)\n",
    "\n",
    "    # Web search\n",
    "    docs = web_search_tool.invoke(question)\n",
    "    print(docs)\n",
    "    web_results = \"\\n\".join([d[\"content\"] for d in docs])\n",
    "    web_results = Document(page_content=web_results)\n",
    "    documents.append(web_results)\n",
    "\n",
    "    return {\"documents\": documents, \"question\": question}\n",
    "\n",
    "# from langchain.schema import Document\n",
    "\n",
    "# def web_search(state):\n",
    "#     print(\"---WEB SEARCH STEP---\")\n",
    "#     question = state.get(\"question\")\n",
    "#     documents = state.get(\"documents\", [])\n",
    "#     print(\"Question:\", question)\n",
    "#     print(\"Documents:\", documents)\n",
    "#     if not isinstance(question, str) or not question.strip():\n",
    "#         raise ValueError(f\"Invalid or missing 'question': {question}\")\n",
    "\n",
    "#     try:\n",
    "#         search_results = web_search_tool.invoke({\"query\": question})\n",
    "#         web_text = \"\\n\".join([r[\"content\"] if isinstance(r, dict) else str(r) for r in search_results])\n",
    "#         print(\"Web search results:\", web_text)\n",
    "#         web_doc = Document(page_content=web_text)\n",
    "#         documents.append(web_doc)\n",
    "#         print(\"documents\", documents)\n",
    "#     except Exception as e:\n",
    "#         print(\"Web search failed:\", e)\n",
    "#         # Optionally continue with empty results\n",
    "#         documents.append(Document(page_content=\"\"))\n",
    "\n",
    "#     return {\"question\": question, \"documents\": documents}\n"
   ]
  },
  {
   "cell_type": "code",
   "execution_count": 190,
   "id": "acd32202",
   "metadata": {},
   "outputs": [],
   "source": [
    "\n",
    "\n",
    "def decide_to_generate(state):\n",
    "    \"\"\"\n",
    "    Determines whether to generate an answer, or re-generate a question.\n",
    "\n",
    "    Args:\n",
    "        state (dict): The current graph state\n",
    "\n",
    "    Returns:\n",
    "        str: Binary decision for next node to call\n",
    "    \"\"\"\n",
    "\n",
    "    print(\"---ASSESS GRADED DOCUMENTS---\")\n",
    "    state[\"question\"]\n",
    "    web_search = state[\"web_search\"]\n",
    "    state[\"documents\"]\n",
    "\n",
    "    if web_search == \"Yes\":\n",
    "        # All documents have been filtered check_relevance\n",
    "        # We will re-generate a new query\n",
    "        print(\n",
    "            \"---DECISION: ALL DOCUMENTS ARE NOT RELEVANT TO QUESTION, TRANSFORM QUERY---\"\n",
    "        )\n",
    "        return \"transform_query\"\n",
    "    else:\n",
    "        # We have relevant documents, so generate answer\n",
    "        print(\"---DECISION: GENERATE---\")\n",
    "        return \"generate\""
   ]
  },
  {
   "cell_type": "code",
   "execution_count": 191,
   "id": "3180dbd5",
   "metadata": {},
   "outputs": [
    {
     "data": {
      "text/plain": [
       "<langgraph.graph.state.StateGraph at 0x36e563bd0>"
      ]
     },
     "execution_count": 191,
     "metadata": {},
     "output_type": "execute_result"
    }
   ],
   "source": [
    "from langgraph.graph import END, StateGraph, START\n",
    "\n",
    "workflow = StateGraph(GraphState)\n",
    "\n",
    "# Define the nodes\n",
    "workflow.add_node(\"retrieve\", retrieve)  # retrieve\n",
    "workflow.add_node(\"grade_documents\", grade_documents)  # grade documents\n",
    "workflow.add_node(\"generate\", generate)  # generatae\n",
    "workflow.add_node(\"transform_query\", transform_query)  # transform_query\n",
    "workflow.add_node(\"web_search_node\", web_search)  # web search"
   ]
  },
  {
   "cell_type": "code",
   "execution_count": 192,
   "id": "932a7b58",
   "metadata": {},
   "outputs": [],
   "source": [
    "# Build graph\n",
    "workflow.add_edge(START, \"retrieve\")\n",
    "workflow.add_edge(\"retrieve\", \"grade_documents\")\n",
    "workflow.add_conditional_edges(\n",
    "    \"grade_documents\",\n",
    "    decide_to_generate,\n",
    "    {\n",
    "        \"transform_query\": \"transform_query\",\n",
    "        \"generate\": \"generate\",\n",
    "    },\n",
    ")\n",
    "workflow.add_edge(\"transform_query\", \"web_search_node\")\n",
    "workflow.add_edge(\"web_search_node\", \"generate\")\n",
    "workflow.add_edge(\"generate\", END)\n",
    "\n",
    "# Compile\n",
    "app = workflow.compile()"
   ]
  },
  {
   "cell_type": "code",
   "execution_count": 195,
   "id": "0ca6e31d",
   "metadata": {},
   "outputs": [
    {
     "data": {
      "image/png": "[encoded data removed]",
      "text/plain": [
       "<langgraph.graph.state.CompiledStateGraph object at 0x36e0d09d0>"
      ]
     },
     "execution_count": 195,
     "metadata": {},
     "output_type": "execute_result"
    }
   ],
   "source": [
    "app"
   ]
  },
  {
   "cell_type": "code",
   "execution_count": 193,
   "id": "346de2ac",
   "metadata": {},
   "outputs": [
    {
     "name": "stdout",
     "output_type": "stream",
     "text": [
      "---RETRIEVE---\n",
      "\"Node 'retrieve':\"\n",
      "'\\n---\\n'\n",
      "---CHECK DOCUMENT RELEVANCE TO QUESTION---\n",
      "---GRADE: DOCUMENT RELEVANT---\n",
      "---GRADE: DOCUMENT RELEVANT---\n",
      "---GRADE: DOCUMENT RELEVANT---\n",
      "---GRADE: DOCUMENT RELEVANT---\n",
      "---ASSESS GRADED DOCUMENTS---\n",
      "---DECISION: GENERATE---\n",
      "\"Node 'grade_documents':\"\n",
      "'\\n---\\n'\n",
      "---GENERATE---\n",
      "\"Node 'generate':\"\n",
      "'\\n---\\n'\n",
      "('The document describes two types of agent memory: short-term memory and '\n",
      " 'long-term memory.  Short-term memory is akin to in-context learning, while '\n",
      " 'long-term memory stores information over extended periods, often using an '\n",
      " 'external vector store. \\n')\n"
     ]
    }
   ],
   "source": [
    "from pprint import pprint\n",
    "\n",
    "# Run\n",
    "inputs = {\"question\": \"What are the types of agent memory?\"}\n",
    "for output in app.stream(inputs):\n",
    "    for key, value in output.items():\n",
    "        # Node\n",
    "        pprint(f\"Node '{key}':\")\n",
    "        # Optional: print full state at each node\n",
    "        # pprint.pprint(value[\"keys\"], indent=2, width=80, depth=None)\n",
    "    pprint(\"\\n---\\n\")\n",
    "\n",
    "# Final generation\n",
    "pprint(value[\"generation\"])"
   ]
  },
  {
   "cell_type": "code",
   "execution_count": 194,
   "id": "e2c0cfff",
   "metadata": {},
   "outputs": [
    {
     "name": "stdout",
     "output_type": "stream",
     "text": [
      "---RETRIEVE---\n",
      "\"Node 'retrieve':\"\n",
      "'\\n---\\n'\n",
      "---CHECK DOCUMENT RELEVANCE TO QUESTION---\n",
      "---GRADE: DOCUMENT NOT RELEVANT---\n",
      "---GRADE: DOCUMENT NOT RELEVANT---\n",
      "---GRADE: DOCUMENT NOT RELEVANT---\n",
      "---GRADE: DOCUMENT NOT RELEVANT---\n",
      "---ASSESS GRADED DOCUMENTS---\n",
      "---DECISION: ALL DOCUMENTS ARE NOT RELEVANT TO QUESTION, TRANSFORM QUERY---\n",
      "\"Node 'grade_documents':\"\n",
      "'\\n---\\n'\n",
      "---TRANSFORM QUERY---\n",
      "\"Node 'transform_query':\"\n",
      "'\\n---\\n'\n",
      "---WEB SEARCH---\n",
      "What is the Taj Mahal?\n",
      "Where is the Taj Mahal located? \n",
      "\n",
      "[]\n",
      "[{'title': 'Taj Mahal - Wikipedia', 'url': 'https://en.wikipedia.org/wiki/Taj_Mahal', 'content': \"The Taj Mahal (/ˌtɑːdʒ məˈhɑːl, ˌtɑːʒ -/ TAHJ mə-HAHL, TAHZH -\\u2060; Hindi: [taːdʒ ˈmɛɦ(ɛ)l]; lit.\\u2009'Crown of the Palace') is an ivory-white marble mausoleum on the right bank of the river Yamuna in Agra, Uttar Pradesh, India. It was commissioned in 1631 by the fifth Mughal emperor, Shah Jahan (r.\\u20091628–1658) to house the tomb of his beloved wife, Mumtaz Mahal; it also houses the tomb of Shah Jahan himself. The tomb is the centrepiece of a 17-hectare (42-acre) complex, which includes a mosque and a [...] From Wikipedia, the free encyclopedia\\nMarble mausoleum in Agra, India\\nFor other uses, see Taj Mahal (disambiguation).\\n| Taj Mahal |\\n| --- |\\n|  |\\n| Location | Agra, Uttar Pradesh, India |\\n| Coordinates | 27°10′30″N 78°2′31″E / 27.17500°N 78.04194°E / 27.17500; 78.04194 |\\n| Area | 17 hectares (42 acres)[1] |\\n| Height | 73\\xa0m (240\\xa0ft) |\\n| Built | 1631–1653;\\n372\\xa0years ago\\xa0(1653)[2] |\\n| Built for | Mumtaz Mahal |\\n| Architect | Ustad Ahmad Lahori |\\n| Architectural style(s) | Mughal architecture | [...] Taj Mahal (India)\\nShow map of India\\n|\\n|   |\\n| \\nUNESCO World Heritage Site\\n|\\n| Criteria | Cultural: i |\\n| Reference | 252 |\\n| Inscription | 1983 (7th Session) |\\n|  Location of the Taj Mahal in Agra |\\n|  |\", 'score': 0.95324475}, {'title': 'Taj Mahal | Definition, Story, Site, Agra, History, & Facts | Britannica', 'url': 'https://www.britannica.com/topic/Taj-Mahal', 'content': 'Taj Mahal\\n\\nOur editors will review what you’ve submitted and determine whether to revise the article.\\n\\nWhat is the Taj Mahal?\\n\\nThe Taj Mahal is a mausoleum complex in Agra, western Uttar Pradesh state, northern India. It is considered the finest example of Mughal architecture (a blend of Indian, Persian, and Islamic styles). The\\xa0Taj Mahal is also one of the world’s most iconic monuments, visited by millions of tourists each year. The complex was designated a UNESCO World Heritage site in 1983. [...] Taj Mahal,  white marble mausoleum complex in Agra, western Uttar Pradesh state, northern India. The Taj Mahal was built by the Mughal emperor Shah Jahan (reigned 1628–58) to immortalize his empress consort Mumtaz Mahal (“Beloved Ornament of the Palace”), who died in childbirth in 1631, having been the emperor’s inseparable companion since their marriage in 1612. One of India’s most iconic mausoleums, it is situated in the eastern part of the city on the southern (right) bank of the Yamuna [...] Who was the Taj Mahal built for?\\n\\nThe Taj Mahal was built as a tomb for Mumtaz Mahal (“Chosen One of the Palace”) by her husband, the Mughal emperor Shah Jahān (reigned 1628–58). She died in childbirth in 1631, after having been the emperor’s inseparable companion since their marriage in 1612.\\n\\nIs the Taj Mahal a tomb?\\n\\nThe Taj Mahal is a mausoleum complex that houses the tombs of Mumtaz Mahal (“Chosen One of the Palace”) and her husband, the Mughal emperor Shah Jahān (reigned 1628–58).', 'score': 0.92700076}, {'title': 'What is the Taj Mahal and where is it located? - Quora', 'url': 'https://www.quora.com/What-is-the-Taj-Mahal-and-where-is-it-located', 'content': 'The Taj Mahal is an ivory-white marble mausoleum on the south bank of the Yamuna river in the Indian city of Agra in Uttar Pradesh district.', 'score': 0.91137725}, {'title': 'Taj Mahal - UNESCO World Heritage Centre', 'url': 'https://whc.unesco.org/en/list/252/', 'content': \"The Taj Mahal is located on the right bank of the Yamuna River in a vast Mughal garden that encompasses nearly 17 hectares, in the Agra District in Uttar Pradesh. It was built by Mughal Emperor Shah Jahan in memory of his wife Mumtaz Mahal with construction starting in 1632 AD and completed in 1648 AD, with the mosque, the guest house and the main gateway on the south, the outer courtyard and its cloisters were added subsequently and completed in 1653 AD. The existence of several historical and [...] Taj Mahal\\nAn immense mausoleum of white marble, built in Agra between 1631 and 1648 by order of the Mughal emperor Shah Jahan in memory of his favourite wife, the Taj Mahal is the jewel of Muslim art in India and one of the universally admired masterpieces of the world's heritage.\\nDescription is available under license CC-BY-SA IGO 3.0\\nLe Taj Mahal [...] إنّ تاج محل هو ضريح جنائزي هائل شُيّد من الرخام الأبيض بين عامي 1631 و1648 في أغرا بناءً على أوامر الإمبراطور المغولي شاه جهان بهدف تخليد ذكرى زوجته المفضّلة. ويشكّل تاج محل الذي يُعتبر أفضل جوهرة في الفن الإسلامي في الهند إحدى أبرز تُحف التراث البشري التي هي محطّ إعجاب العالم بأسره.\\nsource: UNESCO/CPE\\nDescription is available under license CC-BY-SA IGO 3.0\\n泰姬陵\\n泰姬陵是一座由白色大理石建成的巨大陵墓清真寺，是莫卧儿皇帝沙贾汗(Shah Jahan)为纪念他心爱的妃子于1631年至1648年在阿格拉修建的。泰姬陵是印度穆斯林艺术的瑰宝奇葩，是世界遗产中令世人赞叹的经典杰作之一。\\nsource: UNESCO/CPE\", 'score': 0.90102744}, {'title': 'The Taj Mahal: Everything You Need to Know | Architectural Digest', 'url': 'https://www.architecturaldigest.com/story/the-taj-mahal-everything-you-need-to-know', 'content': 'The Taj Mahal is located in Agra, a city in the northern Indian state of Uttar Pradesh. It sits on the right bank of the Yamuna River, the second-largest tributary of the Ganges, which is an atypical spot for a mausoleum. “The Taj Mahal is a very self-aware structure that breaks away from tradition,” explains Rizvi. “Rather than having the tomb at the center of a garden, it’s been pushed to the edge, right on the riverfront. The architecture invites a new and different view. You can see it from [...] Situated on the banks of the Yamuna River in Agra, India, the Taj Mahal is a white marble mausoleum complex that dates back to the 17th century. It was commissioned by Mughal emperor Shah Jahan in memory of his favorite wife and later became his own resting place, as well. But the structure’s fame has much more to do with its impressive, historically significant design than the people who are buried there. [...] The Taj Mahal, located in Agra, India, is among the most famous buildings in the world.Photo: Kriangkrai Thitimakorn/Getty Images\\nSave\\nSave', 'score': 0.90102744}]\n",
      "\"Node 'web_search_node':\"\n",
      "'\\n---\\n'\n",
      "---GENERATE---\n",
      "\"Node 'generate':\"\n",
      "'\\n---\\n'\n",
      "('The Taj Mahal is a white marble mausoleum in Agra, India.  It was built by '\n",
      " 'Mughal emperor Shah Jahan in memory of his wife Mumtaz Mahal. The mausoleum '\n",
      " 'is part of a 17-hectare complex that also includes a mosque and a guest '\n",
      " 'house. \\n'\n",
      " '\\n'\n",
      " '\\n')\n"
     ]
    }
   ],
   "source": [
    "from pprint import pprint\n",
    "\n",
    "# Run\n",
    "inputs = {\"question\": \"Taj Mahal\"}\n",
    "for output in app.stream(inputs):\n",
    "    for key, value in output.items():\n",
    "        # Node\n",
    "        pprint(f\"Node '{key}':\")\n",
    "        # Optional: print full state at each node\n",
    "        # pprint.pprint(value[\"keys\"], indent=2, width=80, depth=None)\n",
    "    pprint(\"\\n---\\n\")\n",
    "\n",
    "# Final generation\n",
    "pprint(value[\"generation\"])"
   ]
  },
  {
   "cell_type": "code",
   "execution_count": null,
   "id": "3248718f",
   "metadata": {},
   "outputs": [],
   "source": []
  },
  {
   "cell_type": "code",
   "execution_count": null,
   "id": "be09c2e8",
   "metadata": {},
   "outputs": [],
   "source": []
  }
 ],
 "metadata": {
  "kernelspec": {
   "display_name": "langgraph-env",
   "language": "python",
   "name": "python3"
  },
  "language_info": {
   "codemirror_mode": {
    "name": "ipython",
    "version": 3
   },
   "file_extension": ".py",
   "mimetype": "text/x-python",
   "name": "python",
   "nbconvert_exporter": "python",
   "pygments_lexer": "ipython3",
   "version": "3.11.12"
  }
 },
 "nbformat": 4,
 "nbformat_minor": 5
}
